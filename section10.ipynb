{
 "cells": [
  {
   "cell_type": "markdown",
   "metadata": {},
   "source": [
    "## Importing the relevant packages"
   ]
  },
  {
   "cell_type": "code",
   "execution_count": 11,
   "metadata": {},
   "outputs": [],
   "source": [
    "import pandas as pd\n",
    "import numpy as np\n",
    "import matplotlib.pyplot as plt\n",
    "import statsmodels.graphics.tsaplots as sgt\n",
    "import statsmodels.tsa.stattools as sts\n",
    "from statsmodels.tsa.arima.model import ARIMA\n",
    "from scipy.stats.distributions import chi2 \n",
    "from math import sqrt\n",
    "import seaborn as sns\n",
    "sns.set()"
   ]
  },
  {
   "cell_type": "markdown",
   "metadata": {},
   "source": [
    "## Importing the Data and Pre-processing "
   ]
  },
  {
   "cell_type": "code",
   "execution_count": 2,
   "metadata": {},
   "outputs": [],
   "source": [
    "url = './ignore/S3/L11/Index2018.csv'\n",
    "raw_csv_data = pd.read_csv(url) \n",
    "df=raw_csv_data.copy()\n",
    "df.date = pd.to_datetime(df.date, dayfirst = True)\n",
    "df.set_index(\"date\", inplace=True)\n",
    "df=df.asfreq('b')\n",
    "df=df.fillna(method='ffill')"
   ]
  },
  {
   "cell_type": "code",
   "execution_count": 3,
   "metadata": {},
   "outputs": [],
   "source": [
    "df['market_value']=df.ftse"
   ]
  },
  {
   "cell_type": "code",
   "execution_count": 4,
   "metadata": {},
   "outputs": [],
   "source": [
    "#del df['spx']\n",
    "#del df['dax']\n",
    "#del df['ftse']\n",
    "#del df['nikkei']\n",
    "size = int(len(df)*0.8)\n",
    "df_train, df_test = df.iloc[:size], df.iloc[size:]"
   ]
  },
  {
   "cell_type": "code",
   "execution_count": 5,
   "metadata": {},
   "outputs": [],
   "source": [
    "# import warnings\n",
    "# warnings.filterwarnings(\"ignore\")"
   ]
  },
  {
   "cell_type": "markdown",
   "metadata": {},
   "source": [
    "## The LLR Test"
   ]
  },
  {
   "cell_type": "code",
   "execution_count": 6,
   "metadata": {},
   "outputs": [],
   "source": [
    "def LLR_test(mod_1, mod_2, DF = 1):\n",
    "    L1 = mod_1.fit(start_ar_lags = 11).llf\n",
    "    L2 = mod_2.fit(start_ar_lags = 11).llf\n",
    "    LR = (2*(L2-L1))    \n",
    "    p = chi2.sf(LR, DF).round(3)\n",
    "    return p"
   ]
  },
  {
   "cell_type": "markdown",
   "metadata": {},
   "source": [
    "## Creating Returns"
   ]
  },
  {
   "cell_type": "code",
   "execution_count": 7,
   "metadata": {
    "scrolled": true
   },
   "outputs": [
    {
     "name": "stderr",
     "output_type": "stream",
     "text": [
      "/var/folders/2h/c7dkm6rj2w318lkvfrnrk2c00000gn/T/ipykernel_40428/3020228530.py:1: SettingWithCopyWarning: \n",
      "A value is trying to be set on a copy of a slice from a DataFrame.\n",
      "Try using .loc[row_indexer,col_indexer] = value instead\n",
      "\n",
      "See the caveats in the documentation: https://pandas.pydata.org/pandas-docs/stable/user_guide/indexing.html#returning-a-view-versus-a-copy\n",
      "  df_train['returns'] = df_train.market_value.pct_change(1)*100\n"
     ]
    }
   ],
   "source": [
    "df_train['returns'] = df_train.market_value.pct_change(1)*100"
   ]
  },
  {
   "cell_type": "markdown",
   "metadata": {},
   "source": [
    "## ARIMA(1,1,1)"
   ]
  },
  {
   "cell_type": "code",
   "execution_count": 12,
   "metadata": {},
   "outputs": [
    {
     "name": "stderr",
     "output_type": "stream",
     "text": [
      "/Users/tim/miniforge3/envs/tf_m1/lib/python3.8/site-packages/statsmodels/tsa/statespace/sarimax.py:966: UserWarning: Non-stationary starting autoregressive parameters found. Using zeros as starting parameters.\n",
      "  warn('Non-stationary starting autoregressive parameters'\n",
      "/Users/tim/miniforge3/envs/tf_m1/lib/python3.8/site-packages/statsmodels/tsa/statespace/sarimax.py:978: UserWarning: Non-invertible starting MA parameters found. Using zeros as starting parameters.\n",
      "  warn('Non-invertible starting MA parameters found.'\n"
     ]
    },
    {
     "name": "stdout",
     "output_type": "stream",
     "text": [
      "                               SARIMAX Results                                \n",
      "==============================================================================\n",
      "Dep. Variable:           market_value   No. Observations:                 5021\n",
      "Model:                 ARIMA(1, 1, 1)   Log Likelihood              -27604.005\n",
      "Date:                Wed, 04 Jan 2023   AIC                          55214.010\n",
      "Time:                        20:02:14   BIC                          55233.574\n",
      "Sample:                    01-07-1994   HQIC                         55220.866\n",
      "                         - 04-05-2013                                         \n",
      "Covariance Type:                  opg                                         \n",
      "==============================================================================\n",
      "                 coef    std err          z      P>|z|      [0.025      0.975]\n",
      "------------------------------------------------------------------------------\n",
      "ar.L1          0.7459      0.059     12.654      0.000       0.630       0.861\n",
      "ma.L1         -0.7919      0.053    -14.925      0.000      -0.896      -0.688\n",
      "sigma2      3498.7412     40.932     85.477      0.000    3418.516    3578.967\n",
      "===================================================================================\n",
      "Ljung-Box (L1) (Q):                   2.63   Jarque-Bera (JB):              3326.23\n",
      "Prob(Q):                              0.11   Prob(JB):                         0.00\n",
      "Heteroskedasticity (H):               1.90   Skew:                            -0.32\n",
      "Prob(H) (two-sided):                  0.00   Kurtosis:                         6.94\n",
      "===================================================================================\n",
      "\n",
      "Warnings:\n",
      "[1] Covariance matrix calculated using the outer product of gradients (complex-step).\n"
     ]
    }
   ],
   "source": [
    "price_arima_111 = ARIMA(df_train['market_value'], order=(1,1,1))\n",
    "results_price_arima_111 = price_arima_111.fit()\n",
    "print(results_price_arima_111.summary())"
   ]
  },
  {
   "cell_type": "markdown",
   "metadata": {},
   "source": [
    "## Residuals of the ARIMA(1,1,1)"
   ]
  },
  {
   "cell_type": "code",
   "execution_count": 16,
   "metadata": {},
   "outputs": [
    {
     "data": {
      "text/plain": [
       "(-500.0, 500.0)"
      ]
     },
     "execution_count": 16,
     "metadata": {},
     "output_type": "execute_result"
    },
    {
     "data": {
      "image/png": "[encoded data removed]",
      "text/plain": [
       "<Figure size 1440x432 with 1 Axes>"
      ]
     },
     "metadata": {},
     "output_type": "display_data"
    }
   ],
   "source": [
    "results_price_arima_111.resid.plot(figsize=(20, 6))\n",
    "plt.ylim(-500, 500)"
   ]
  },
  {
   "cell_type": "code",
   "execution_count": 24,
   "metadata": {},
   "outputs": [
    {
     "data": {
      "text/plain": [
       "(-0.1, 0.1)"
      ]
     },
     "execution_count": 24,
     "metadata": {},
     "output_type": "execute_result"
    },
    {
     "data": {
      "image/png": "[encoded data removed]",
      "text/plain": [
       "<Figure size 720x432 with 1 Axes>"
      ]
     },
     "metadata": {},
     "output_type": "display_data"
    }
   ],
   "source": [
    "fig, ax = plt.subplots(figsize=(10,6))\n",
    "sgt.plot_acf(results_price_arima_111.resid[1:], lags=40, zero=False, ax=ax)\n",
    "plt.title(\"ACF of residuals\", size=20)\n",
    "plt.ylim(-0.1, 0.1)"
   ]
  },
  {
   "cell_type": "markdown",
   "metadata": {},
   "source": [
    "## Higher-Lag ARIMA Models"
   ]
  },
  {
   "cell_type": "markdown",
   "metadata": {},
   "source": [
    "    ARIMA(1,1,2), ARIMA(1,1,3), ARIMA(2,1,1), ARIMA(3,1,1), ARIMA(3,1,2)"
   ]
  },
  {
   "cell_type": "code",
   "execution_count": 25,
   "metadata": {},
   "outputs": [],
   "source": [
    "price_arima_112 = ARIMA(df_train['market_value'], order=(1,1,2))\n",
    "results_price_arima_112 = price_arima_112.fit()"
   ]
  },
  {
   "cell_type": "code",
   "execution_count": 26,
   "metadata": {},
   "outputs": [],
   "source": [
    "price_arima_113 = ARIMA(df_train['market_value'], order=(1,1,3))\n",
    "results_price_arima_113 = price_arima_113.fit()"
   ]
  },
  {
   "cell_type": "code",
   "execution_count": 27,
   "metadata": {},
   "outputs": [
    {
     "name": "stderr",
     "output_type": "stream",
     "text": [
      "/Users/tim/miniforge3/envs/tf_m1/lib/python3.8/site-packages/statsmodels/tsa/statespace/sarimax.py:966: UserWarning: Non-stationary starting autoregressive parameters found. Using zeros as starting parameters.\n",
      "  warn('Non-stationary starting autoregressive parameters'\n",
      "/Users/tim/miniforge3/envs/tf_m1/lib/python3.8/site-packages/statsmodels/tsa/statespace/sarimax.py:978: UserWarning: Non-invertible starting MA parameters found. Using zeros as starting parameters.\n",
      "  warn('Non-invertible starting MA parameters found.'\n"
     ]
    }
   ],
   "source": [
    "price_arima_211 = ARIMA(df_train['market_value'], order=(2,1,1))\n",
    "results_price_arima_211 = price_arima_211.fit()"
   ]
  },
  {
   "cell_type": "code",
   "execution_count": 29,
   "metadata": {},
   "outputs": [],
   "source": [
    "price_arima_311 = ARIMA(df_train['market_value'], order=(3,1,1))\n",
    "results_price_arima_311 = price_arima_311.fit()"
   ]
  },
  {
   "cell_type": "code",
   "execution_count": 30,
   "metadata": {},
   "outputs": [],
   "source": [
    "price_arima_312 = ARIMA(df_train['market_value'], order=(3,1,2))\n",
    "results_price_arima_312 = price_arima_312.fit()"
   ]
  },
  {
   "cell_type": "code",
   "execution_count": 39,
   "metadata": {},
   "outputs": [
    {
     "name": "stdout",
     "output_type": "stream",
     "text": [
      "ARIMA(1,1,1) -27604.00510530288, 55214.01021060576\n",
      "ARIMA(1,1,2) -27600.407632540606, 55208.81526508121\n",
      "ARIMA(1,1,3) -27590.72348194477, 55191.44696388954, best model\n",
      "ARIMA(2,1,1) -27600.13055105199, 55208.26110210398\n",
      "ARIMA(3,1,1) -27592.336116474555, 55194.67223294911\n",
      "ARIMA(3,1,2) -27590.920318067627, 55193.84063613525\n"
     ]
    }
   ],
   "source": [
    "print(f\"ARIMA(1,1,1) {results_price_arima_111.llf}, {results_price_arima_111.aic}\")\n",
    "print(f\"ARIMA(1,1,2) {results_price_arima_112.llf}, {results_price_arima_112.aic}\")\n",
    "print(f\"ARIMA(1,1,3) {results_price_arima_113.llf}, {results_price_arima_113.aic}, best model\")\n",
    "print(f\"ARIMA(2,1,1) {results_price_arima_211.llf}, {results_price_arima_211.aic}\")\n",
    "print(f\"ARIMA(3,1,1) {results_price_arima_311.llf}, {results_price_arima_311.aic}\")\n",
    "print(f\"ARIMA(3,1,2) {results_price_arima_312.llf}, {results_price_arima_312.aic}\")"
   ]
  },
  {
   "cell_type": "code",
   "execution_count": 38,
   "metadata": {},
   "outputs": [
    {
     "data": {
      "text/plain": [
       "(-0.1, 0.1)"
      ]
     },
     "execution_count": 38,
     "metadata": {},
     "output_type": "execute_result"
    },
    {
     "data": {
      "image/png": "[encoded data removed]",
      "text/plain": [
       "<Figure size 720x432 with 1 Axes>"
      ]
     },
     "metadata": {},
     "output_type": "display_data"
    }
   ],
   "source": [
    "fig, ax = plt.subplots(figsize=(10,6))\n",
    "sgt.plot_acf(results_price_arima_113.resid[1:], lags=40, zero=False, ax=ax)\n",
    "plt.title(\"ACF of Residuals of ARIMA(1,1,1) for the prices of FTSE\", size=16)\n",
    "plt.ylim(-0.1, 0.1)"
   ]
  },
  {
   "cell_type": "code",
   "execution_count": 40,
   "metadata": {
    "scrolled": false
   },
   "outputs": [],
   "source": [
    "price_arima_511 = ARIMA(df_train['market_value'], order=(5,1,1))\n",
    "results_price_arima_511 = price_arima_511.fit()\n",
    "price_arima_613 = ARIMA(df_train['market_value'], order=(6,1,3))\n",
    "results_price_arima_613 = price_arima_613.fit()"
   ]
  },
  {
   "cell_type": "code",
   "execution_count": 41,
   "metadata": {},
   "outputs": [
    {
     "name": "stdout",
     "output_type": "stream",
     "text": [
      "ARIMA(1,1,3) -27590.72348194477, 55191.44696388954, best model\n",
      "ARIMA(5,1,1) -27586.844609581243, 55187.68921916249\n",
      "ARIMA(6,1,3) -27583.858499814625, 55187.71699962925\n"
     ]
    }
   ],
   "source": [
    "print(f\"ARIMA(1,1,3) {results_price_arima_113.llf}, {results_price_arima_113.aic}\")\n",
    "print(f\"ARIMA(5,1,1) {results_price_arima_511.llf}, {results_price_arima_511.aic}\")\n",
    "print(f\"ARIMA(6,1,3) {results_price_arima_613.llf}, {results_price_arima_613.aic}\")"
   ]
  },
  {
   "cell_type": "code",
   "execution_count": 42,
   "metadata": {},
   "outputs": [
    {
     "data": {
      "text/plain": [
       "(-0.1, 0.1)"
      ]
     },
     "execution_count": 42,
     "metadata": {},
     "output_type": "execute_result"
    },
    {
     "data": {
      "image/png": "[encoded data removed]",
      "text/plain": [
       "<Figure size 720x432 with 1 Axes>"
      ]
     },
     "metadata": {},
     "output_type": "display_data"
    }
   ],
   "source": [
    "fig, ax = plt.subplots(figsize=(10,6))\n",
    "sgt.plot_acf(results_price_arima_511.resid[1:], lags=40, zero=False, ax=ax)\n",
    "plt.title(\"ACF of Residuals of ARIMA(5,1,1) for the prices of FTSE\", size=16)\n",
    "plt.ylim(-0.1, 0.1)"
   ]
  },
  {
   "cell_type": "code",
   "execution_count": 43,
   "metadata": {},
   "outputs": [
    {
     "name": "stdout",
     "output_type": "stream",
     "text": [
      "                               SARIMAX Results                                \n",
      "==============================================================================\n",
      "Dep. Variable:           market_value   No. Observations:                 5021\n",
      "Model:                 ARIMA(5, 1, 1)   Log Likelihood              -27586.845\n",
      "Date:                Fri, 06 Jan 2023   AIC                          55187.689\n",
      "Time:                        16:15:14   BIC                          55233.338\n",
      "Sample:                    01-07-1994   HQIC                         55203.685\n",
      "                         - 04-05-2013                                         \n",
      "Covariance Type:                  opg                                         \n",
      "==============================================================================\n",
      "                 coef    std err          z      P>|z|      [0.025      0.975]\n",
      "------------------------------------------------------------------------------\n",
      "ar.L1          0.4006      0.153      2.618      0.009       0.101       0.701\n",
      "ar.L2         -0.0444      0.011     -4.071      0.000      -0.066      -0.023\n",
      "ar.L3         -0.0542      0.013     -4.226      0.000      -0.079      -0.029\n",
      "ar.L4          0.0587      0.015      3.914      0.000       0.029       0.088\n",
      "ar.L5         -0.0580      0.009     -6.337      0.000      -0.076      -0.040\n",
      "ma.L1         -0.4208      0.153     -2.743      0.006      -0.721      -0.120\n",
      "sigma2      3479.0026     41.909     83.013      0.000    3396.862    3561.143\n",
      "===================================================================================\n",
      "Ljung-Box (L1) (Q):                   0.00   Jarque-Bera (JB):              3060.40\n",
      "Prob(Q):                              0.95   Prob(JB):                         0.00\n",
      "Heteroskedasticity (H):               1.90   Skew:                            -0.32\n",
      "Prob(H) (two-sided):                  0.00   Kurtosis:                         6.77\n",
      "===================================================================================\n",
      "\n",
      "Warnings:\n",
      "[1] Covariance matrix calculated using the outer product of gradients (complex-step).\n"
     ]
    }
   ],
   "source": [
    "print(results_price_arima_511.summary())"
   ]
  },
  {
   "cell_type": "markdown",
   "metadata": {},
   "source": [
    "## Models with Higher Levels of Integration"
   ]
  },
  {
   "cell_type": "code",
   "execution_count": 44,
   "metadata": {},
   "outputs": [
    {
     "name": "stderr",
     "output_type": "stream",
     "text": [
      "/var/folders/2h/c7dkm6rj2w318lkvfrnrk2c00000gn/T/ipykernel_40428/415468101.py:1: SettingWithCopyWarning: \n",
      "A value is trying to be set on a copy of a slice from a DataFrame.\n",
      "Try using .loc[row_indexer,col_indexer] = value instead\n",
      "\n",
      "See the caveats in the documentation: https://pandas.pydata.org/pandas-docs/stable/user_guide/indexing.html#returning-a-view-versus-a-copy\n",
      "  df_train['delta_prices'] = df_train['market_value'].diff(1)\n"
     ]
    },
    {
     "data": {
      "text/html": [
       "<div>\n",
       "<style scoped>\n",
       "    .dataframe tbody tr th:only-of-type {\n",
       "        vertical-align: middle;\n",
       "    }\n",
       "\n",
       "    .dataframe tbody tr th {\n",
       "        vertical-align: top;\n",
       "    }\n",
       "\n",
       "    .dataframe thead th {\n",
       "        text-align: right;\n",
       "    }\n",
       "</style>\n",
       "<table border=\"1\" class=\"dataframe\">\n",
       "  <thead>\n",
       "    <tr style=\"text-align: right;\">\n",
       "      <th></th>\n",
       "      <th>spx</th>\n",
       "      <th>dax</th>\n",
       "      <th>ftse</th>\n",
       "      <th>nikkei</th>\n",
       "      <th>market_value</th>\n",
       "      <th>returns</th>\n",
       "      <th>delta_prices</th>\n",
       "    </tr>\n",
       "    <tr>\n",
       "      <th>date</th>\n",
       "      <th></th>\n",
       "      <th></th>\n",
       "      <th></th>\n",
       "      <th></th>\n",
       "      <th></th>\n",
       "      <th></th>\n",
       "      <th></th>\n",
       "    </tr>\n",
       "  </thead>\n",
       "  <tbody>\n",
       "    <tr>\n",
       "      <th>1994-01-07</th>\n",
       "      <td>469.90</td>\n",
       "      <td>2224.95</td>\n",
       "      <td>3445.98</td>\n",
       "      <td>18124.01</td>\n",
       "      <td>3445.98</td>\n",
       "      <td>NaN</td>\n",
       "      <td>NaN</td>\n",
       "    </tr>\n",
       "    <tr>\n",
       "      <th>1994-01-10</th>\n",
       "      <td>475.27</td>\n",
       "      <td>2225.00</td>\n",
       "      <td>3440.58</td>\n",
       "      <td>18443.44</td>\n",
       "      <td>3440.58</td>\n",
       "      <td>-0.156704</td>\n",
       "      <td>-5.40</td>\n",
       "    </tr>\n",
       "    <tr>\n",
       "      <th>1994-01-11</th>\n",
       "      <td>474.13</td>\n",
       "      <td>2228.10</td>\n",
       "      <td>3413.77</td>\n",
       "      <td>18485.25</td>\n",
       "      <td>3413.77</td>\n",
       "      <td>-0.779229</td>\n",
       "      <td>-26.81</td>\n",
       "    </tr>\n",
       "    <tr>\n",
       "      <th>1994-01-12</th>\n",
       "      <td>474.17</td>\n",
       "      <td>2182.06</td>\n",
       "      <td>3372.02</td>\n",
       "      <td>18793.88</td>\n",
       "      <td>3372.02</td>\n",
       "      <td>-1.222988</td>\n",
       "      <td>-41.75</td>\n",
       "    </tr>\n",
       "    <tr>\n",
       "      <th>1994-01-13</th>\n",
       "      <td>472.47</td>\n",
       "      <td>2142.37</td>\n",
       "      <td>3360.01</td>\n",
       "      <td>18577.26</td>\n",
       "      <td>3360.01</td>\n",
       "      <td>-0.356166</td>\n",
       "      <td>-12.01</td>\n",
       "    </tr>\n",
       "  </tbody>\n",
       "</table>\n",
       "</div>"
      ],
      "text/plain": [
       "               spx      dax     ftse    nikkei  market_value   returns  \\\n",
       "date                                                                     \n",
       "1994-01-07  469.90  2224.95  3445.98  18124.01       3445.98       NaN   \n",
       "1994-01-10  475.27  2225.00  3440.58  18443.44       3440.58 -0.156704   \n",
       "1994-01-11  474.13  2228.10  3413.77  18485.25       3413.77 -0.779229   \n",
       "1994-01-12  474.17  2182.06  3372.02  18793.88       3372.02 -1.222988   \n",
       "1994-01-13  472.47  2142.37  3360.01  18577.26       3360.01 -0.356166   \n",
       "\n",
       "            delta_prices  \n",
       "date                      \n",
       "1994-01-07           NaN  \n",
       "1994-01-10         -5.40  \n",
       "1994-01-11        -26.81  \n",
       "1994-01-12        -41.75  \n",
       "1994-01-13        -12.01  "
      ]
     },
     "execution_count": 44,
     "metadata": {},
     "output_type": "execute_result"
    }
   ],
   "source": [
    "df_train['delta_prices'] = df_train['market_value'].diff(1)\n",
    "df_train.head()"
   ]
  },
  {
   "cell_type": "code",
   "execution_count": 47,
   "metadata": {},
   "outputs": [
    {
     "name": "stdout",
     "output_type": "stream",
     "text": [
      "                               SARIMAX Results                                \n",
      "==============================================================================\n",
      "Dep. Variable:           delta_prices   No. Observations:                 5021\n",
      "Model:                 ARIMA(1, 1, 1)   Log Likelihood              -27622.053\n",
      "Date:                Fri, 06 Jan 2023   AIC                          55250.106\n",
      "Time:                        16:19:43   BIC                          55269.670\n",
      "Sample:                    01-07-1994   HQIC                         55256.961\n",
      "                         - 04-05-2013                                         \n",
      "Covariance Type:                  opg                                         \n",
      "==============================================================================\n",
      "                 coef    std err          z      P>|z|      [0.025      0.975]\n",
      "------------------------------------------------------------------------------\n",
      "ar.L1         -0.0178      0.010     -1.808      0.071      -0.037       0.001\n",
      "ma.L1         -0.9998      0.002   -530.588      0.000      -1.004      -0.996\n",
      "sigma2      3513.8570     40.926     85.859      0.000    3433.644    3594.070\n",
      "===================================================================================\n",
      "Ljung-Box (L1) (Q):                   0.01   Jarque-Bera (JB):              3338.54\n",
      "Prob(Q):                              0.94   Prob(JB):                         0.00\n",
      "Heteroskedasticity (H):               1.90   Skew:                            -0.22\n",
      "Prob(H) (two-sided):                  0.00   Kurtosis:                         6.97\n",
      "===================================================================================\n",
      "\n",
      "Warnings:\n",
      "[1] Covariance matrix calculated using the outer product of gradients (complex-step).\n"
     ]
    }
   ],
   "source": [
    "delta_arima111 = ARIMA(df_train['delta_prices'], order=(1,1,1))\n",
    "results_delta_arima111 = delta_arima111.fit()\n",
    "print(results_delta_arima111.summary())"
   ]
  },
  {
   "cell_type": "code",
   "execution_count": 49,
   "metadata": {},
   "outputs": [
    {
     "data": {
      "text/plain": [
       "(-32.24409349570758,\n",
       " 0.0,\n",
       " 5,\n",
       " 5014,\n",
       " {'1%': -3.4316548765428174,\n",
       "  '5%': -2.8621166146845334,\n",
       "  '10%': -2.5670769326348926},\n",
       " 54845.96104221891)"
      ]
     },
     "execution_count": 49,
     "metadata": {},
     "output_type": "execute_result"
    }
   ],
   "source": [
    "sts.adfuller(df_train['delta_prices'][1:])"
   ]
  },
  {
   "cell_type": "code",
   "execution_count": 50,
   "metadata": {},
   "outputs": [
    {
     "name": "stderr",
     "output_type": "stream",
     "text": [
      "/var/folders/2h/c7dkm6rj2w318lkvfrnrk2c00000gn/T/ipykernel_40428/3439472549.py:1: SettingWithCopyWarning: \n",
      "A value is trying to be set on a copy of a slice from a DataFrame.\n",
      "Try using .loc[row_indexer,col_indexer] = value instead\n",
      "\n",
      "See the caveats in the documentation: https://pandas.pydata.org/pandas-docs/stable/user_guide/indexing.html#returning-a-view-versus-a-copy\n",
      "  df_train['delta2_prices'] = df_train['delta_prices'].diff(1)\n"
     ]
    },
    {
     "data": {
      "text/html": [
       "<div>\n",
       "<style scoped>\n",
       "    .dataframe tbody tr th:only-of-type {\n",
       "        vertical-align: middle;\n",
       "    }\n",
       "\n",
       "    .dataframe tbody tr th {\n",
       "        vertical-align: top;\n",
       "    }\n",
       "\n",
       "    .dataframe thead th {\n",
       "        text-align: right;\n",
       "    }\n",
       "</style>\n",
       "<table border=\"1\" class=\"dataframe\">\n",
       "  <thead>\n",
       "    <tr style=\"text-align: right;\">\n",
       "      <th></th>\n",
       "      <th>spx</th>\n",
       "      <th>dax</th>\n",
       "      <th>ftse</th>\n",
       "      <th>nikkei</th>\n",
       "      <th>market_value</th>\n",
       "      <th>returns</th>\n",
       "      <th>delta_prices</th>\n",
       "      <th>delta2_prices</th>\n",
       "    </tr>\n",
       "    <tr>\n",
       "      <th>date</th>\n",
       "      <th></th>\n",
       "      <th></th>\n",
       "      <th></th>\n",
       "      <th></th>\n",
       "      <th></th>\n",
       "      <th></th>\n",
       "      <th></th>\n",
       "      <th></th>\n",
       "    </tr>\n",
       "  </thead>\n",
       "  <tbody>\n",
       "    <tr>\n",
       "      <th>1994-01-07</th>\n",
       "      <td>469.90</td>\n",
       "      <td>2224.95</td>\n",
       "      <td>3445.98</td>\n",
       "      <td>18124.01</td>\n",
       "      <td>3445.98</td>\n",
       "      <td>NaN</td>\n",
       "      <td>NaN</td>\n",
       "      <td>NaN</td>\n",
       "    </tr>\n",
       "    <tr>\n",
       "      <th>1994-01-10</th>\n",
       "      <td>475.27</td>\n",
       "      <td>2225.00</td>\n",
       "      <td>3440.58</td>\n",
       "      <td>18443.44</td>\n",
       "      <td>3440.58</td>\n",
       "      <td>-0.156704</td>\n",
       "      <td>-5.40</td>\n",
       "      <td>NaN</td>\n",
       "    </tr>\n",
       "    <tr>\n",
       "      <th>1994-01-11</th>\n",
       "      <td>474.13</td>\n",
       "      <td>2228.10</td>\n",
       "      <td>3413.77</td>\n",
       "      <td>18485.25</td>\n",
       "      <td>3413.77</td>\n",
       "      <td>-0.779229</td>\n",
       "      <td>-26.81</td>\n",
       "      <td>-21.41</td>\n",
       "    </tr>\n",
       "    <tr>\n",
       "      <th>1994-01-12</th>\n",
       "      <td>474.17</td>\n",
       "      <td>2182.06</td>\n",
       "      <td>3372.02</td>\n",
       "      <td>18793.88</td>\n",
       "      <td>3372.02</td>\n",
       "      <td>-1.222988</td>\n",
       "      <td>-41.75</td>\n",
       "      <td>-14.94</td>\n",
       "    </tr>\n",
       "    <tr>\n",
       "      <th>1994-01-13</th>\n",
       "      <td>472.47</td>\n",
       "      <td>2142.37</td>\n",
       "      <td>3360.01</td>\n",
       "      <td>18577.26</td>\n",
       "      <td>3360.01</td>\n",
       "      <td>-0.356166</td>\n",
       "      <td>-12.01</td>\n",
       "      <td>29.74</td>\n",
       "    </tr>\n",
       "  </tbody>\n",
       "</table>\n",
       "</div>"
      ],
      "text/plain": [
       "               spx      dax     ftse    nikkei  market_value   returns  \\\n",
       "date                                                                     \n",
       "1994-01-07  469.90  2224.95  3445.98  18124.01       3445.98       NaN   \n",
       "1994-01-10  475.27  2225.00  3440.58  18443.44       3440.58 -0.156704   \n",
       "1994-01-11  474.13  2228.10  3413.77  18485.25       3413.77 -0.779229   \n",
       "1994-01-12  474.17  2182.06  3372.02  18793.88       3372.02 -1.222988   \n",
       "1994-01-13  472.47  2142.37  3360.01  18577.26       3360.01 -0.356166   \n",
       "\n",
       "            delta_prices  delta2_prices  \n",
       "date                                     \n",
       "1994-01-07           NaN            NaN  \n",
       "1994-01-10         -5.40            NaN  \n",
       "1994-01-11        -26.81         -21.41  \n",
       "1994-01-12        -41.75         -14.94  \n",
       "1994-01-13        -12.01          29.74  "
      ]
     },
     "execution_count": 50,
     "metadata": {},
     "output_type": "execute_result"
    }
   ],
   "source": [
    "df_train['delta2_prices'] = df_train['delta_prices'].diff(1)\n",
    "df_train.head()"
   ]
  },
  {
   "cell_type": "code",
   "execution_count": 53,
   "metadata": {},
   "outputs": [
    {
     "data": {
      "text/plain": [
       "(-0.2, 0.2)"
      ]
     },
     "execution_count": 53,
     "metadata": {},
     "output_type": "execute_result"
    },
    {
     "data": {
      "image/png": "[encoded data removed]",
      "text/plain": [
       "<Figure size 720x432 with 1 Axes>"
      ]
     },
     "metadata": {},
     "output_type": "display_data"
    }
   ],
   "source": [
    "fig, ax = plt.subplots(figsize=(10,6))\n",
    "sgt.plot_acf(df_train['delta2_prices'][2:], lags=40, zero=False, ax=ax)\n",
    "plt.title(\"ACF of 2-diff prices of FTSE\", size=16)\n",
    "plt.ylim(-0.2, 0.2)"
   ]
  },
  {
   "cell_type": "code",
   "execution_count": 55,
   "metadata": {},
   "outputs": [
    {
     "data": {
      "text/plain": [
       "Text(0.5, 1.0, 'PACF of 2-diff prices of FTSE')"
      ]
     },
     "execution_count": 55,
     "metadata": {},
     "output_type": "execute_result"
    },
    {
     "data": {
      "image/png": "[encoded data removed]",
      "text/plain": [
       "<Figure size 720x432 with 1 Axes>"
      ]
     },
     "metadata": {},
     "output_type": "display_data"
    }
   ],
   "source": [
    "fig, ax = plt.subplots(figsize=(10,6))\n",
    "sgt.plot_pacf(df_train['delta2_prices'][2:], lags=40, zero=False, method='ols', ax=ax)\n",
    "plt.title(\"PACF of 2-diff prices of FTSE\", size=16)\n"
   ]
  },
  {
   "cell_type": "code",
   "execution_count": 57,
   "metadata": {},
   "outputs": [
    {
     "name": "stderr",
     "output_type": "stream",
     "text": [
      "/Users/tim/miniforge3/envs/tf_m1/lib/python3.8/site-packages/statsmodels/tsa/statespace/sarimax.py:978: UserWarning: Non-invertible starting MA parameters found. Using zeros as starting parameters.\n",
      "  warn('Non-invertible starting MA parameters found.'\n"
     ]
    },
    {
     "name": "stdout",
     "output_type": "stream",
     "text": [
      "                               SARIMAX Results                                \n",
      "==============================================================================\n",
      "Dep. Variable:          delta2_prices   No. Observations:                 5019\n",
      "Model:                 ARIMA(1, 2, 1)   Log Likelihood              -30673.955\n",
      "Date:                Fri, 06 Jan 2023   AIC                          61353.910\n",
      "Time:                        16:31:45   BIC                          61373.471\n",
      "Sample:                    01-11-1994   HQIC                         61360.764\n",
      "                         - 04-05-2013                                         \n",
      "Covariance Type:                  opg                                         \n",
      "==============================================================================\n",
      "                 coef    std err          z      P>|z|      [0.025      0.975]\n",
      "------------------------------------------------------------------------------\n",
      "ar.L1         -0.6615      0.007    -93.481      0.000      -0.675      -0.648\n",
      "ma.L1         -1.0000      0.221     -4.527      0.000      -1.433      -0.567\n",
      "sigma2      1.195e+04   2644.984      4.516      0.000    6761.756    1.71e+04\n",
      "===================================================================================\n",
      "Ljung-Box (L1) (Q):                 458.53   Jarque-Bera (JB):              3692.37\n",
      "Prob(Q):                              0.00   Prob(JB):                         0.00\n",
      "Heteroskedasticity (H):               2.06   Skew:                             0.05\n",
      "Prob(H) (two-sided):                  0.00   Kurtosis:                         7.20\n",
      "===================================================================================\n",
      "\n",
      "Warnings:\n",
      "[1] Covariance matrix calculated using the outer product of gradients (complex-step).\n"
     ]
    }
   ],
   "source": [
    "test = ARIMA(df_train['delta2_prices'][2:], order=(1,2,1))\n",
    "print(test.fit().summary())"
   ]
  },
  {
   "cell_type": "code",
   "execution_count": 62,
   "metadata": {},
   "outputs": [
    {
     "name": "stdout",
     "output_type": "stream",
     "text": [
      "1 1\n"
     ]
    },
    {
     "name": "stderr",
     "output_type": "stream",
     "text": [
      "/Users/tim/miniforge3/envs/tf_m1/lib/python3.8/site-packages/statsmodels/tsa/statespace/sarimax.py:978: UserWarning: Non-invertible starting MA parameters found. Using zeros as starting parameters.\n",
      "  warn('Non-invertible starting MA parameters found.'\n"
     ]
    },
    {
     "name": "stdout",
     "output_type": "stream",
     "text": [
      "1 2\n",
      "1 3\n"
     ]
    },
    {
     "name": "stderr",
     "output_type": "stream",
     "text": [
      "/Users/tim/miniforge3/envs/tf_m1/lib/python3.8/site-packages/statsmodels/base/model.py:604: ConvergenceWarning: Maximum Likelihood optimization failed to converge. Check mle_retvals\n",
      "  warnings.warn(\"Maximum Likelihood optimization failed to \"\n",
      "/Users/tim/miniforge3/envs/tf_m1/lib/python3.8/site-packages/statsmodels/base/model.py:604: ConvergenceWarning: Maximum Likelihood optimization failed to converge. Check mle_retvals\n",
      "  warnings.warn(\"Maximum Likelihood optimization failed to \"\n",
      "/Users/tim/miniforge3/envs/tf_m1/lib/python3.8/site-packages/statsmodels/base/model.py:604: ConvergenceWarning: Maximum Likelihood optimization failed to converge. Check mle_retvals\n",
      "  warnings.warn(\"Maximum Likelihood optimization failed to \"\n",
      "/Users/tim/miniforge3/envs/tf_m1/lib/python3.8/site-packages/statsmodels/base/model.py:604: ConvergenceWarning: Maximum Likelihood optimization failed to converge. Check mle_retvals\n",
      "  warnings.warn(\"Maximum Likelihood optimization failed to \"\n"
     ]
    },
    {
     "name": "stdout",
     "output_type": "stream",
     "text": [
      "1 4\n",
      "1 5\n"
     ]
    },
    {
     "name": "stderr",
     "output_type": "stream",
     "text": [
      "/Users/tim/miniforge3/envs/tf_m1/lib/python3.8/site-packages/statsmodels/base/model.py:604: ConvergenceWarning: Maximum Likelihood optimization failed to converge. Check mle_retvals\n",
      "  warnings.warn(\"Maximum Likelihood optimization failed to \"\n"
     ]
    },
    {
     "name": "stdout",
     "output_type": "stream",
     "text": [
      "2 1\n",
      "2 2\n",
      "2 3\n",
      "2 4\n"
     ]
    },
    {
     "name": "stderr",
     "output_type": "stream",
     "text": [
      "/Users/tim/miniforge3/envs/tf_m1/lib/python3.8/site-packages/statsmodels/base/model.py:604: ConvergenceWarning: Maximum Likelihood optimization failed to converge. Check mle_retvals\n",
      "  warnings.warn(\"Maximum Likelihood optimization failed to \"\n"
     ]
    },
    {
     "name": "stdout",
     "output_type": "stream",
     "text": [
      "2 5\n",
      "3 1\n",
      "3 2\n",
      "passed because of LU decomposition error\n",
      "3 3\n",
      "3 4\n",
      "3 5\n"
     ]
    },
    {
     "name": "stderr",
     "output_type": "stream",
     "text": [
      "/Users/tim/miniforge3/envs/tf_m1/lib/python3.8/site-packages/statsmodels/base/model.py:604: ConvergenceWarning: Maximum Likelihood optimization failed to converge. Check mle_retvals\n",
      "  warnings.warn(\"Maximum Likelihood optimization failed to \"\n"
     ]
    },
    {
     "name": "stdout",
     "output_type": "stream",
     "text": [
      "4 1\n",
      "4 2\n",
      "4 3\n",
      "4 4\n"
     ]
    },
    {
     "name": "stderr",
     "output_type": "stream",
     "text": [
      "/Users/tim/miniforge3/envs/tf_m1/lib/python3.8/site-packages/statsmodels/base/model.py:604: ConvergenceWarning: Maximum Likelihood optimization failed to converge. Check mle_retvals\n",
      "  warnings.warn(\"Maximum Likelihood optimization failed to \"\n"
     ]
    },
    {
     "name": "stdout",
     "output_type": "stream",
     "text": [
      "4 5\n"
     ]
    },
    {
     "name": "stderr",
     "output_type": "stream",
     "text": [
      "/Users/tim/miniforge3/envs/tf_m1/lib/python3.8/site-packages/statsmodels/base/model.py:604: ConvergenceWarning: Maximum Likelihood optimization failed to converge. Check mle_retvals\n",
      "  warnings.warn(\"Maximum Likelihood optimization failed to \"\n",
      "/Users/tim/miniforge3/envs/tf_m1/lib/python3.8/site-packages/statsmodels/tsa/statespace/sarimax.py:966: UserWarning: Non-stationary starting autoregressive parameters found. Using zeros as starting parameters.\n",
      "  warn('Non-stationary starting autoregressive parameters'\n"
     ]
    },
    {
     "name": "stdout",
     "output_type": "stream",
     "text": [
      "5 1\n",
      "5 2\n",
      "5 3\n"
     ]
    },
    {
     "name": "stderr",
     "output_type": "stream",
     "text": [
      "/Users/tim/miniforge3/envs/tf_m1/lib/python3.8/site-packages/statsmodels/base/model.py:604: ConvergenceWarning: Maximum Likelihood optimization failed to converge. Check mle_retvals\n",
      "  warnings.warn(\"Maximum Likelihood optimization failed to \"\n"
     ]
    },
    {
     "name": "stdout",
     "output_type": "stream",
     "text": [
      "5 4\n"
     ]
    },
    {
     "name": "stderr",
     "output_type": "stream",
     "text": [
      "/Users/tim/miniforge3/envs/tf_m1/lib/python3.8/site-packages/statsmodels/base/model.py:604: ConvergenceWarning: Maximum Likelihood optimization failed to converge. Check mle_retvals\n",
      "  warnings.warn(\"Maximum Likelihood optimization failed to \"\n"
     ]
    },
    {
     "name": "stdout",
     "output_type": "stream",
     "text": [
      "5 5\n"
     ]
    },
    {
     "name": "stderr",
     "output_type": "stream",
     "text": [
      "/Users/tim/miniforge3/envs/tf_m1/lib/python3.8/site-packages/statsmodels/base/model.py:604: ConvergenceWarning: Maximum Likelihood optimization failed to converge. Check mle_retvals\n",
      "  warnings.warn(\"Maximum Likelihood optimization failed to \"\n"
     ]
    }
   ],
   "source": [
    "min_p = 0\n",
    "min_q = 0\n",
    "min_aic = 9999999\n",
    "min_llf = -9999999\n",
    "for p in range(1, 4):\n",
    "    for q in range(1, 4):\n",
    "        print(p,q)\n",
    "        if p == 3 and q == 2:\n",
    "            print(\"passed because of LU decomposition error\")\n",
    "        else:\n",
    "            model = ARIMA(df_train['delta2_prices'][2:], order=(p,2,q))\n",
    "            if model.fit().aic < min_aic and model.fit().llf > min_llf:\n",
    "                min_p = p\n",
    "                min_q = q\n",
    "                min_aic = model.fit().aic\n",
    "                min_llf = model.fit().llf"
   ]
  },
  {
   "cell_type": "markdown",
   "metadata": {},
   "source": [
    "    seems like ARIMA(1,2,4 is the best model)"
   ]
  },
  {
   "cell_type": "code",
   "execution_count": 64,
   "metadata": {},
   "outputs": [
    {
     "name": "stdout",
     "output_type": "stream",
     "text": [
      "1 4 55391.598178991066 -27689.799089495533\n"
     ]
    }
   ],
   "source": [
    "print(min_p, min_q, min_aic, min_llf)"
   ]
  },
  {
   "cell_type": "markdown",
   "metadata": {},
   "source": [
    "## ARIMAX "
   ]
  },
  {
   "cell_type": "code",
   "execution_count": 65,
   "metadata": {},
   "outputs": [
    {
     "name": "stdout",
     "output_type": "stream",
     "text": [
      "                               SARIMAX Results                                \n",
      "==============================================================================\n",
      "Dep. Variable:           market_value   No. Observations:                 5021\n",
      "Model:                 ARIMA(1, 1, 1)   Log Likelihood              -26693.392\n",
      "Date:                Fri, 06 Jan 2023   AIC                          53394.784\n",
      "Time:                        16:54:10   BIC                          53420.869\n",
      "Sample:                    01-07-1994   HQIC                         53403.925\n",
      "                         - 04-05-2013                                         \n",
      "Covariance Type:                  opg                                         \n",
      "==============================================================================\n",
      "                 coef    std err          z      P>|z|      [0.025      0.975]\n",
      "------------------------------------------------------------------------------\n",
      "spx            2.6928      0.035     76.407      0.000       2.624       2.762\n",
      "ar.L1          0.2571      0.029      8.812      0.000       0.200       0.314\n",
      "ma.L1         -0.5460      0.025    -21.791      0.000      -0.595      -0.497\n",
      "sigma2      2433.0771     27.350     88.961      0.000    2379.472    2486.682\n",
      "===================================================================================\n",
      "Ljung-Box (L1) (Q):                   0.24   Jarque-Bera (JB):              4423.90\n",
      "Prob(Q):                              0.62   Prob(JB):                         0.00\n",
      "Heteroskedasticity (H):               1.25   Skew:                            -0.57\n",
      "Prob(H) (two-sided):                  0.00   Kurtosis:                         7.45\n",
      "===================================================================================\n",
      "\n",
      "Warnings:\n",
      "[1] Covariance matrix calculated using the outer product of gradients (complex-step).\n"
     ]
    }
   ],
   "source": [
    "price_arima111_xspx = ARIMA(df_train['market_value'], exog=df_train['spx'], order=(1,1,1))\n",
    "results_price_arima111_xspx = price_arima111_xspx.fit()\n",
    "print(results_price_arima111_xspx.summary())"
   ]
  },
  {
   "cell_type": "code",
   "execution_count": 74,
   "metadata": {},
   "outputs": [],
   "source": [
    "exog = df_train.loc[:, ['spx', 'dax']]\n",
    "# exog.head()"
   ]
  },
  {
   "cell_type": "code",
   "execution_count": 75,
   "metadata": {},
   "outputs": [
    {
     "name": "stdout",
     "output_type": "stream",
     "text": [
      "                               SARIMAX Results                                \n",
      "==============================================================================\n",
      "Dep. Variable:           market_value   No. Observations:                 5021\n",
      "Model:                 ARIMA(1, 1, 1)   Log Likelihood              -25009.403\n",
      "Date:                Fri, 06 Jan 2023   AIC                          50028.806\n",
      "Time:                        17:38:15   BIC                          50061.412\n",
      "Sample:                    01-07-1994   HQIC                         50040.231\n",
      "                         - 04-05-2013                                         \n",
      "Covariance Type:                  opg                                         \n",
      "==============================================================================\n",
      "                 coef    std err          z      P>|z|      [0.025      0.975]\n",
      "------------------------------------------------------------------------------\n",
      "spx            0.4299      0.031     14.033      0.000       0.370       0.490\n",
      "dax            0.5859      0.005    111.922      0.000       0.576       0.596\n",
      "ar.L1          0.5754      0.058      9.864      0.000       0.461       0.690\n",
      "ma.L1         -0.6637      0.055    -12.076      0.000      -0.771      -0.556\n",
      "sigma2      1246.8483     14.006     89.023      0.000    1219.397    1274.299\n",
      "===================================================================================\n",
      "Ljung-Box (L1) (Q):                   0.09   Jarque-Bera (JB):              5951.15\n",
      "Prob(Q):                              0.76   Prob(JB):                         0.00\n",
      "Heteroskedasticity (H):               0.96   Skew:                            -0.05\n",
      "Prob(H) (two-sided):                  0.47   Kurtosis:                         8.33\n",
      "===================================================================================\n",
      "\n",
      "Warnings:\n",
      "[1] Covariance matrix calculated using the outer product of gradients (complex-step).\n"
     ]
    }
   ],
   "source": [
    "price_arima111_xspx = ARIMA(df_train['market_value'], exog=exog, order=(1,1,1))\n",
    "results_price_arima111_xspx = price_arima111_xspx.fit()\n",
    "print(results_price_arima111_xspx.summary())"
   ]
  },
  {
   "cell_type": "markdown",
   "metadata": {},
   "source": [
    "## SARIMAX"
   ]
  },
  {
   "cell_type": "code",
   "execution_count": 76,
   "metadata": {},
   "outputs": [],
   "source": [
    "from statsmodels.tsa.statespace.sarimax import SARIMAX"
   ]
  },
  {
   "cell_type": "code",
   "execution_count": 79,
   "metadata": {},
   "outputs": [
    {
     "name": "stderr",
     "output_type": "stream",
     "text": [
      " This problem is unconstrained.\n"
     ]
    },
    {
     "name": "stdout",
     "output_type": "stream",
     "text": [
      "RUNNING THE L-BFGS-B CODE\n",
      "\n",
      "           * * *\n",
      "\n",
      "Machine precision = 2.220D-16\n",
      " N =            7     M =           10\n",
      "\n",
      "At X0         0 variables are exactly at the bounds\n",
      "\n",
      "At iterate    0    f=  5.61406D+00    |proj g|=  3.31141D-01\n",
      "\n",
      "At iterate    5    f=  5.36916D+00    |proj g|=  4.07136D-02\n",
      "\n",
      "At iterate   10    f=  5.33449D+00    |proj g|=  8.82040D-03\n",
      "\n",
      "At iterate   15    f=  5.32970D+00    |proj g|=  4.86531D-02\n",
      "\n",
      "At iterate   20    f=  5.32286D+00    |proj g|=  8.95017D-04\n",
      "\n",
      "At iterate   25    f=  5.32278D+00    |proj g|=  3.50438D-03\n",
      "\n",
      "At iterate   30    f=  5.32135D+00    |proj g|=  7.19016D-03\n",
      "\n",
      "At iterate   35    f=  5.32050D+00    |proj g|=  6.58032D-03\n",
      "\n",
      "At iterate   40    f=  5.32024D+00    |proj g|=  5.55354D-03\n",
      "\n",
      "At iterate   45    f=  5.32019D+00    |proj g|=  2.59008D-03\n",
      "  ys=-3.024E-05  -gs= 1.030E-05 BFGS update SKIPPED\n"
     ]
    },
    {
     "name": "stderr",
     "output_type": "stream",
     "text": [
      "\n",
      " Bad direction in the line search;\n",
      "   refresh the lbfgs memory and restart the iteration.\n",
      "/Users/tim/miniforge3/envs/tf_m1/lib/python3.8/site-packages/statsmodels/base/model.py:604: ConvergenceWarning: Maximum Likelihood optimization failed to converge. Check mle_retvals\n",
      "  warnings.warn(\"Maximum Likelihood optimization failed to \"\n"
     ]
    },
    {
     "name": "stdout",
     "output_type": "stream",
     "text": [
      "\n",
      "At iterate   50    f=  5.32018D+00    |proj g|=  4.89830D-04\n",
      "\n",
      "           * * *\n",
      "\n",
      "Tit   = total number of iterations\n",
      "Tnf   = total number of function evaluations\n",
      "Tnint = total number of segments explored during Cauchy searches\n",
      "Skip  = number of BFGS updates skipped\n",
      "Nact  = number of active bounds at final generalized Cauchy point\n",
      "Projg = norm of the final projected gradient\n",
      "F     = final function value\n",
      "\n",
      "           * * *\n",
      "\n",
      "   N    Tit     Tnf  Tnint  Skip  Nact     Projg        F\n",
      "    7     50     87      2     1     0   4.898D-04   5.320D+00\n",
      "  F =   5.3201772471087239     \n",
      "\n",
      "STOP: TOTAL NO. of ITERATIONS REACHED LIMIT                 \n",
      "                                     SARIMAX Results                                     \n",
      "=========================================================================================\n",
      "Dep. Variable:                      market_value   No. Observations:                 5021\n",
      "Model:             SARIMAX(1, 0, 1)x(2, 0, 1, 5)   Log Likelihood              -26712.610\n",
      "Date:                           Fri, 06 Jan 2023   AIC                          53439.220\n",
      "Time:                                   18:50:06   BIC                          53484.870\n",
      "Sample:                               01-07-1994   HQIC                         53455.216\n",
      "                                    - 04-05-2013                                         \n",
      "Covariance Type:                             opg                                         \n",
      "==============================================================================\n",
      "                 coef    std err          z      P>|z|      [0.025      0.975]\n",
      "------------------------------------------------------------------------------\n",
      "spx            2.7069      0.036     76.219      0.000       2.637       2.777\n",
      "ar.L1          0.9999      0.000   2680.330      0.000       0.999       1.001\n",
      "ma.L1         -0.3101      0.009    -32.921      0.000      -0.329      -0.292\n",
      "ar.S.L5        0.9654      0.011     86.862      0.000       0.944       0.987\n",
      "ar.S.L10       0.0343      0.010      3.313      0.001       0.014       0.055\n",
      "ma.S.L5       -0.9990      0.006   -159.170      0.000      -1.011      -0.987\n",
      "sigma2      2450.1043     28.907     84.758      0.000    2393.448    2506.761\n",
      "===================================================================================\n",
      "Ljung-Box (L1) (Q):                   1.56   Jarque-Bera (JB):              4205.49\n",
      "Prob(Q):                              0.21   Prob(JB):                         0.00\n",
      "Heteroskedasticity (H):               1.23   Skew:                            -0.52\n",
      "Prob(H) (two-sided):                  0.00   Kurtosis:                         7.36\n",
      "===================================================================================\n",
      "\n",
      "Warnings:\n",
      "[1] Covariance matrix calculated using the outer product of gradients (complex-step).\n"
     ]
    }
   ],
   "source": [
    "model_sarimax = SARIMAX(df_train['market_value'], order=(1,0,1), seasonal_order=(2,0,1,5), exog=df_train['spx'])\n",
    "results_sarimax = model_sarimax.fit()\n",
    "print(results_sarimax.summary())"
   ]
  },
  {
   "cell_type": "code",
   "execution_count": null,
   "metadata": {},
   "outputs": [],
   "source": []
  }
 ],
 "metadata": {
  "kernelspec": {
   "display_name": "Python 3.8.10 ('tf_m1')",
   "language": "python",
   "name": "python3"
  },
  "language_info": {
   "codemirror_mode": {
    "name": "ipython",
    "version": 3
   },
   "file_extension": ".py",
   "mimetype": "text/x-python",
   "name": "python",
   "nbconvert_exporter": "python",
   "pygments_lexer": "ipython3",
   "version": "3.8.10"
  },
  "vscode": {
   "interpreter": {
    "hash": "c06ecea90290e0e2a703c88138118ffa00a980552fe399a6ce9573effcd4e290"
   }
  }
 },
 "nbformat": 4,
 "nbformat_minor": 2
}
