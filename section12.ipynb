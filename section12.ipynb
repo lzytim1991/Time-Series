{
 "cells": [
  {
   "cell_type": "markdown",
   "metadata": {},
   "source": [
    "## Importing the relevant packages"
   ]
  },
  {
   "cell_type": "code",
   "execution_count": 2,
   "metadata": {},
   "outputs": [],
   "source": [
    "import pandas as pd\n",
    "import numpy as np\n",
    "import matplotlib.pyplot as plt\n",
    "import statsmodels.graphics.tsaplots as sgt\n",
    "import statsmodels.tsa.stattools as sts\n",
    "from statsmodels.tsa.arima.model import ARIMA\n",
    "from scipy.stats.distributions import chi2 \n",
    "from arch import arch_model\n",
    "from math import sqrt\n",
    "import seaborn as sns\n",
    "sns.set()"
   ]
  },
  {
   "cell_type": "markdown",
   "metadata": {},
   "source": [
    "## Importing the Data and Pre-processing "
   ]
  },
  {
   "cell_type": "code",
   "execution_count": 3,
   "metadata": {},
   "outputs": [],
   "source": [
    "url = './ignore/S3/L11/Index2018.csv'\n",
    "raw_csv_data = pd.read_csv(url) \n",
    "df=raw_csv_data.copy()\n",
    "df.date = pd.to_datetime(df.date, dayfirst = True)\n",
    "df.set_index(\"date\", inplace=True)\n",
    "df=df.asfreq('b')\n",
    "df=df.fillna(method='ffill')"
   ]
  },
  {
   "cell_type": "code",
   "execution_count": 4,
   "metadata": {},
   "outputs": [],
   "source": [
    "df['market_value']=df.ftse"
   ]
  },
  {
   "cell_type": "code",
   "execution_count": 5,
   "metadata": {},
   "outputs": [],
   "source": [
    "del df['spx']\n",
    "del df['dax']\n",
    "del df['ftse']\n",
    "del df['nikkei']\n",
    "size = int(len(df)*0.8)\n",
    "df_train, df_test = df.iloc[:size], df.iloc[size:]"
   ]
  },
  {
   "cell_type": "code",
   "execution_count": 6,
   "metadata": {},
   "outputs": [],
   "source": [
    "# import warnings\n",
    "# warnings.filterwarnings(\"ignore\")"
   ]
  },
  {
   "cell_type": "markdown",
   "metadata": {},
   "source": [
    "## The LLR Test"
   ]
  },
  {
   "cell_type": "code",
   "execution_count": 7,
   "metadata": {},
   "outputs": [],
   "source": [
    "def LLR_test(mod_1, mod_2, DF = 1):\n",
    "    L1 = mod_1.fit(start_ar_lags = 11).llf\n",
    "    L2 = mod_2.fit(start_ar_lags = 11).llf\n",
    "    LR = (2*(L2-L1))    \n",
    "    p = chi2.sf(LR, DF).round(3)\n",
    "    return p"
   ]
  },
  {
   "cell_type": "markdown",
   "metadata": {},
   "source": [
    "## Creating Returns"
   ]
  },
  {
   "cell_type": "code",
   "execution_count": 8,
   "metadata": {
    "scrolled": true
   },
   "outputs": [
    {
     "name": "stderr",
     "output_type": "stream",
     "text": [
      "/var/folders/2h/c7dkm6rj2w318lkvfrnrk2c00000gn/T/ipykernel_75153/3020228530.py:1: SettingWithCopyWarning: \n",
      "A value is trying to be set on a copy of a slice from a DataFrame.\n",
      "Try using .loc[row_indexer,col_indexer] = value instead\n",
      "\n",
      "See the caveats in the documentation: https://pandas.pydata.org/pandas-docs/stable/user_guide/indexing.html#returning-a-view-versus-a-copy\n",
      "  df_train['returns'] = df_train.market_value.pct_change(1)*100\n"
     ]
    }
   ],
   "source": [
    "df_train['returns'] = df_train.market_value.pct_change(1)*100"
   ]
  },
  {
   "cell_type": "markdown",
   "metadata": {},
   "source": [
    "## The Simple GARCH Model"
   ]
  },
  {
   "cell_type": "code",
   "execution_count": 10,
   "metadata": {},
   "outputs": [
    {
     "name": "stdout",
     "output_type": "stream",
     "text": [
      "Iteration:      5,   Func. Count:     35,   Neg. LLF: 7010.712423623649\n",
      "Iteration:     10,   Func. Count:     64,   Neg. LLF: 6970.058478409483\n",
      "Optimization terminated successfully    (Exit mode 0)\n",
      "            Current function value: 6970.058366189904\n",
      "            Iterations: 13\n",
      "            Function evaluations: 78\n",
      "            Gradient evaluations: 13\n",
      "                     Constant Mean - GARCH Model Results                      \n",
      "==============================================================================\n",
      "Dep. Variable:                returns   R-squared:                       0.000\n",
      "Mean Model:             Constant Mean   Adj. R-squared:                  0.000\n",
      "Vol Model:                      GARCH   Log-Likelihood:               -6970.06\n",
      "Distribution:                  Normal   AIC:                           13948.1\n",
      "Method:            Maximum Likelihood   BIC:                           13974.2\n",
      "                                        No. Observations:                 5020\n",
      "Date:                Tue, Jan 10 2023   Df Residuals:                     5019\n",
      "Time:                        03:30:31   Df Model:                            1\n",
      "                                 Mean Model                                 \n",
      "============================================================================\n",
      "                 coef    std err          t      P>|t|      95.0% Conf. Int.\n",
      "----------------------------------------------------------------------------\n",
      "mu             0.0466  1.183e-02      3.939  8.187e-05 [2.342e-02,6.981e-02]\n",
      "                              Volatility Model                              \n",
      "============================================================================\n",
      "                 coef    std err          t      P>|t|      95.0% Conf. Int.\n",
      "----------------------------------------------------------------------------\n",
      "omega          0.0109  3.004e-03      3.640  2.724e-04 [5.048e-03,1.682e-02]\n",
      "alpha[1]       0.0835  1.071e-02      7.794  6.476e-15   [6.249e-02,  0.104]\n",
      "beta[1]        0.9089  1.148e-02     79.168      0.000     [  0.886,  0.931]\n",
      "============================================================================\n",
      "\n",
      "Covariance estimator: robust\n"
     ]
    }
   ],
   "source": [
    "garch11 = arch_model(df_train['returns'][1:], mean='constant', vol=\"GARCH\", p=1, q=1)\n",
    "results_garch11 = garch11.fit(update_freq=5)\n",
    "print(results_garch11.summary())"
   ]
  },
  {
   "cell_type": "markdown",
   "metadata": {},
   "source": [
    "## Higher-Lag GARCH Models"
   ]
  },
  {
   "cell_type": "code",
   "execution_count": 11,
   "metadata": {},
   "outputs": [
    {
     "name": "stdout",
     "output_type": "stream",
     "text": [
      "Iteration:      5,   Func. Count:     40,   Neg. LLF: 6974.175070184585\n",
      "Iteration:     10,   Func. Count:     71,   Neg. LLF: 6970.058392785186\n",
      "Optimization terminated successfully    (Exit mode 0)\n",
      "            Current function value: 6970.058366227395\n",
      "            Iterations: 12\n",
      "            Function evaluations: 83\n",
      "            Gradient evaluations: 12\n",
      "                     Constant Mean - GARCH Model Results                      \n",
      "==============================================================================\n",
      "Dep. Variable:                returns   R-squared:                       0.000\n",
      "Mean Model:             Constant Mean   Adj. R-squared:                  0.000\n",
      "Vol Model:                      GARCH   Log-Likelihood:               -6970.06\n",
      "Distribution:                  Normal   AIC:                           13950.1\n",
      "Method:            Maximum Likelihood   BIC:                           13982.7\n",
      "                                        No. Observations:                 5020\n",
      "Date:                Tue, Jan 10 2023   Df Residuals:                     5019\n",
      "Time:                        03:33:40   Df Model:                            1\n",
      "                                 Mean Model                                 \n",
      "============================================================================\n",
      "                 coef    std err          t      P>|t|      95.0% Conf. Int.\n",
      "----------------------------------------------------------------------------\n",
      "mu             0.0466  1.184e-02      3.938  8.219e-05 [2.341e-02,6.982e-02]\n",
      "                              Volatility Model                              \n",
      "============================================================================\n",
      "                 coef    std err          t      P>|t|      95.0% Conf. Int.\n",
      "----------------------------------------------------------------------------\n",
      "omega          0.0109  2.908e-03      3.761  1.696e-04 [5.236e-03,1.663e-02]\n",
      "alpha[1]       0.0835  1.189e-02      7.019  2.231e-12   [6.017e-02,  0.107]\n",
      "beta[1]        0.9089      0.188      4.845  1.268e-06     [  0.541,  1.277]\n",
      "beta[2]        0.0000      0.180      0.000      1.000     [ -0.352,  0.352]\n",
      "============================================================================\n",
      "\n",
      "Covariance estimator: robust\n"
     ]
    }
   ],
   "source": [
    "garch12 = arch_model(df_train['returns'][1:],\n",
    "                     mean='constant', vol=\"GARCH\", p=1, q=2)\n",
    "results_garch12 = garch12.fit(update_freq=5)\n",
    "print(results_garch12.summary())"
   ]
  },
  {
   "cell_type": "code",
   "execution_count": 12,
   "metadata": {},
   "outputs": [
    {
     "name": "stdout",
     "output_type": "stream",
     "text": [
      "Iteration:      5,   Func. Count:     47,   Neg. LLF: 7044.9128405154115\n",
      "Iteration:     10,   Func. Count:     88,   Neg. LLF: 6973.181221444772\n",
      "Iteration:     15,   Func. Count:    124,   Neg. LLF: 6970.0583673749625\n",
      "Optimization terminated successfully    (Exit mode 0)\n",
      "            Current function value: 6970.058366230056\n",
      "            Iterations: 17\n",
      "            Function evaluations: 137\n",
      "            Gradient evaluations: 17\n",
      "                     Constant Mean - GARCH Model Results                      \n",
      "==============================================================================\n",
      "Dep. Variable:                returns   R-squared:                       0.000\n",
      "Mean Model:             Constant Mean   Adj. R-squared:                  0.000\n",
      "Vol Model:                      GARCH   Log-Likelihood:               -6970.06\n",
      "Distribution:                  Normal   AIC:                           13952.1\n",
      "Method:            Maximum Likelihood   BIC:                           13991.2\n",
      "                                        No. Observations:                 5020\n",
      "Date:                Tue, Jan 10 2023   Df Residuals:                     5019\n",
      "Time:                        03:34:01   Df Model:                            1\n",
      "                                 Mean Model                                 \n",
      "============================================================================\n",
      "                 coef    std err          t      P>|t|      95.0% Conf. Int.\n",
      "----------------------------------------------------------------------------\n",
      "mu             0.0466  1.179e-02      3.954  7.683e-05 [2.351e-02,6.972e-02]\n",
      "                               Volatility Model                              \n",
      "=============================================================================\n",
      "                 coef    std err          t      P>|t|       95.0% Conf. Int.\n",
      "-----------------------------------------------------------------------------\n",
      "omega          0.0109  8.175e-03      1.338      0.181 [-5.087e-03,2.696e-02]\n",
      "alpha[1]       0.0835  6.074e-02      1.374      0.169   [-3.557e-02,  0.203]\n",
      "beta[1]        0.9089      2.153      0.422      0.673      [ -3.311,  5.129]\n",
      "beta[2]        0.0000      3.383      0.000      1.000      [ -6.630,  6.630]\n",
      "beta[3]    4.0163e-13      1.297  3.097e-13      1.000      [ -2.542,  2.542]\n",
      "=============================================================================\n",
      "\n",
      "Covariance estimator: robust\n"
     ]
    }
   ],
   "source": [
    "garch13 = arch_model(df_train['returns'][1:],\n",
    "                     mean='constant', vol=\"GARCH\", p=1, q=3)\n",
    "results_garch13 = garch13.fit(update_freq=5)\n",
    "print(results_garch13.summary())"
   ]
  },
  {
   "cell_type": "code",
   "execution_count": 13,
   "metadata": {},
   "outputs": [
    {
     "name": "stdout",
     "output_type": "stream",
     "text": [
      "Iteration:      5,   Func. Count:     40,   Neg. LLF: 8793.711923408657\n",
      "Iteration:     10,   Func. Count:     76,   Neg. LLF: 6967.731247473179\n",
      "Optimization terminated successfully    (Exit mode 0)\n",
      "            Current function value: 6967.731020076106\n",
      "            Iterations: 12\n",
      "            Function evaluations: 87\n",
      "            Gradient evaluations: 12\n",
      "                     Constant Mean - GARCH Model Results                      \n",
      "==============================================================================\n",
      "Dep. Variable:                returns   R-squared:                       0.000\n",
      "Mean Model:             Constant Mean   Adj. R-squared:                  0.000\n",
      "Vol Model:                      GARCH   Log-Likelihood:               -6967.73\n",
      "Distribution:                  Normal   AIC:                           13945.5\n",
      "Method:            Maximum Likelihood   BIC:                           13978.1\n",
      "                                        No. Observations:                 5020\n",
      "Date:                Tue, Jan 10 2023   Df Residuals:                     5019\n",
      "Time:                        03:34:30   Df Model:                            1\n",
      "                                 Mean Model                                 \n",
      "============================================================================\n",
      "                 coef    std err          t      P>|t|      95.0% Conf. Int.\n",
      "----------------------------------------------------------------------------\n",
      "mu             0.0466  1.187e-02      3.922  8.780e-05 [2.329e-02,6.982e-02]\n",
      "                               Volatility Model                              \n",
      "=============================================================================\n",
      "                 coef    std err          t      P>|t|       95.0% Conf. Int.\n",
      "-----------------------------------------------------------------------------\n",
      "omega          0.0129  4.097e-03      3.158  1.589e-03  [4.908e-03,2.097e-02]\n",
      "alpha[1]       0.0547  1.665e-02      3.286  1.017e-03  [2.208e-02,8.735e-02]\n",
      "alpha[2]       0.0389  2.345e-02      1.659  9.709e-02 [-7.056e-03,8.488e-02]\n",
      "beta[1]        0.8974  1.712e-02     52.415      0.000      [  0.864,  0.931]\n",
      "=============================================================================\n",
      "\n",
      "Covariance estimator: robust\n"
     ]
    }
   ],
   "source": [
    "garch21 = arch_model(df_train['returns'][1:],\n",
    "                     mean='constant', vol=\"GARCH\", p=2, q=1)\n",
    "results_garch21 = garch21.fit(update_freq=5)\n",
    "print(results_garch21.summary())"
   ]
  },
  {
   "cell_type": "markdown",
   "metadata": {},
   "source": [
    "    GARCH(1,1) is the best, no need for overly complicated models"
   ]
  }
 ],
 "metadata": {
  "kernelspec": {
   "display_name": "Python 3.8.10 ('tf_m1')",
   "language": "python",
   "name": "python3"
  },
  "language_info": {
   "codemirror_mode": {
    "name": "ipython",
    "version": 3
   },
   "file_extension": ".py",
   "mimetype": "text/x-python",
   "name": "python",
   "nbconvert_exporter": "python",
   "pygments_lexer": "ipython3",
   "version": "3.8.10"
  },
  "vscode": {
   "interpreter": {
    "hash": "c06ecea90290e0e2a703c88138118ffa00a980552fe399a6ce9573effcd4e290"
   }
  }
 },
 "nbformat": 4,
 "nbformat_minor": 2
}
